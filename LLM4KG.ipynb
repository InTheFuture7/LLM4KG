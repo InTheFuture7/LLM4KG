{
 "cells": [
  {
   "cell_type": "code",
   "execution_count": null,
   "id": "6d61e4ed-ad6b-4111-89dc-d686fbd4b8b9",
   "metadata": {},
   "outputs": [],
   "source": [
    "import os\n",
    "import time\n",
    "import json\n",
    "from neo4j import GraphDatabase\n",
    "import json\n",
    "from dotenv import load_dotenv, find_dotenv\n",
    "\n",
    "# 读取本地/项目的环境变量\n",
    "\n",
    "# find_dotenv() 寻找并定位 .env 文件的路径\n",
    "# load_dotenv() 读取该 .env 文件，并将其中的环境变量加载到当前的运行环境中  \n",
    "# 如果你设置的是全局的环境变量，这行代码则没有任何作用。\n",
    "_ = load_dotenv(find_dotenv())"
   ]
  },
  {
   "cell_type": "markdown",
   "id": "ef49773b-f20c-4da3-86fd-6562c0951970",
   "metadata": {},
   "source": [
    "# 1. 调用大模型 api"
   ]
  },
  {
   "cell_type": "markdown",
   "id": "f54e9de2",
   "metadata": {},
   "source": [
    "星火、智谱 8192 toekn，通义长文本 28k tokens"
   ]
  },
  {
   "cell_type": "markdown",
   "id": "901ed242-a09d-4dcb-8199-62a50d6de4c3",
   "metadata": {},
   "source": [
    "## 1.1 智谱清言 glm-4"
   ]
  },
  {
   "cell_type": "markdown",
   "id": "4fea0afe-4627-41ac-a9c6-730d1c144950",
   "metadata": {},
   "source": [
    "配置密钥信息，将前面获取到的 API key 设置到 .env 文件中的 ZHIPUAI_API_KEY 参数，然后运行以下代码加载配置信息。\n",
    "\n",
    "模型的最大输入长度 512 字符数，输出 8192 token\n",
    "\n",
    "[智谱 api 文档](https://maas.aminer.cn/dev/api#glm-4)"
   ]
  },
  {
   "cell_type": "markdown",
   "id": "7ba4d534-dfa9-4493-900d-92d5a83e1d4f",
   "metadata": {},
   "source": [
    "智谱的调用传参和其他类似，也需要传入一个 messages 列表，列表中包括 role 和 prompt。我们封装如下的 `get_completion` 函数，供后续使用。"
   ]
  },
  {
   "cell_type": "code",
   "execution_count": null,
   "id": "f5b46aeb-ae83-408f-90c0-fd3447e10453",
   "metadata": {},
   "outputs": [],
   "source": [
    "from zhipuai import ZhipuAI\n",
    "\n",
    "client = ZhipuAI(api_key=os.environ[\"ZHIPUAI_API_KEY\"])\n",
    "\n",
    "def gen_glm_params(prompt):\n",
    "    '''\n",
    "    构造 GLM 模型请求参数 messages\n",
    "    请求参数：prompt: 对应的用户提示词\n",
    "    '''\n",
    "    messages = [{\"role\": \"user\", \"content\": prompt}]\n",
    "    return messages\n",
    "\n",
    "def get_completion(prompt, model=\"glm-4\", temperature=0.01, max_tokens=8192):\n",
    "    '''\n",
    "    获取 GLM 模型调用结果\n",
    "    请求参数：\n",
    "        prompt: 对应的提示词\n",
    "        model: 调用的模型，默认为 glm-4，也可以按需选择 glm-3-turbo 等其他模型\n",
    "        temperature: 模型输出的温度系数，控制输出的随机程度，取值范围是 0~1.0，且不能设置为 0。温度系数越低，输出内容越一致。\n",
    "    '''\n",
    "\n",
    "    messages = gen_glm_params(prompt)\n",
    "    response = client.chat.completions.create(\n",
    "        model=model,\n",
    "        messages=messages,\n",
    "        temperature=temperature,\n",
    "        max_tokens=max_tokens\n",
    "    )\n",
    "    if len(response.choices) > 0:\n",
    "        return response.choices[0].message.content\n",
    "    return \"generate answer error\""
   ]
  },
  {
   "cell_type": "markdown",
   "id": "748d5718-02f2-4375-a92a-e23113984ade",
   "metadata": {},
   "source": [
    "## 1.2 调用文心一言"
   ]
  },
  {
   "cell_type": "code",
   "execution_count": null,
   "id": "80958461-cf0e-4618-bd7b-9d4e077e12ca",
   "metadata": {},
   "outputs": [],
   "source": [
    "import qianfan\n",
    "\n",
    "def gen_wenxin_messages(prompt):\n",
    "    '''\n",
    "    构造文心模型请求参数 messages\n",
    "    请求参数：\n",
    "        prompt: 对应的用户提示词\n",
    "    '''\n",
    "    messages = [{\"role\": \"user\", \"content\": prompt}]\n",
    "    return messages\n",
    "\n",
    "\n",
    "def get_completion(prompt, model=\"ERNIE-Bot\", temperature=0.01, max_output_tokens=4096):\n",
    "    '''\n",
    "    获取文心模型调用结果\n",
    "\n",
    "    请求参数：\n",
    "        prompt: 对应的提示词\n",
    "        model: 调用的模型，默认为 ERNIE-Bot，也可以按需选择 ERNIE-Bot-4 等其他模型\n",
    "        temperature: 模型输出的温度系数，控制输出的随机程度，取值范围是 0~1.0，且不能设置为 0。温度系数越低，输出内容越一致。\n",
    "    '''\n",
    "\n",
    "    chat_comp = qianfan.ChatCompletion()\n",
    "    message = gen_wenxin_messages(prompt)\n",
    "\n",
    "    resp = chat_comp.do(messages=message, \n",
    "                        model=model,\n",
    "                        temperature = temperature,\n",
    "                        system=\"你是一个对电子商务领域有深入了解的专家\")  # 人设\n",
    "\n",
    "    return resp[\"result\"]"
   ]
  },
  {
   "cell_type": "markdown",
   "id": "6f326fa7-32d2-4421-9dca-6961b311dddb",
   "metadata": {},
   "source": [
    "## 1.3 讯飞星火"
   ]
  },
  {
   "cell_type": "code",
   "execution_count": null,
   "id": "98a2143e-eeb6-4eaa-897a-7db4b38e192f",
   "metadata": {},
   "outputs": [],
   "source": [
    "import os\n",
    "import sys\n",
    "import sparkAPI\n",
    "\n",
    "\n",
    "def gen_spark_params(model):\n",
    "    '''\n",
    "    构造星火模型请求参数\n",
    "    '''\n",
    "\n",
    "    spark_url_tpl = \"wss://spark-api.xf-yun.com/{}/chat\"\n",
    "    model_params_dict = {\n",
    "        # v1.5 版本\n",
    "        \"v1.5\": {\n",
    "            \"domain\": \"general\", # 用于配置大模型版本\n",
    "            \"spark_url\": spark_url_tpl.format(\"v1.1\") # 云端环境的服务地址\n",
    "        },\n",
    "        # v2.0 版本\n",
    "        \"v2.0\": {\n",
    "            \"domain\": \"generalv2\", # 用于配置大模型版本\n",
    "            \"spark_url\": spark_url_tpl.format(\"v2.1\") # 云端环境的服务地址\n",
    "        },\n",
    "        # v3.0 版本\n",
    "        \"v3.0\": {\n",
    "            \"domain\": \"generalv3\", # 用于配置大模型版本\n",
    "            \"spark_url\": spark_url_tpl.format(\"v3.1\") # 云端环境的服务地址\n",
    "        },\n",
    "        # v3.5 版本\n",
    "        \"v3.5\": {\n",
    "            \"domain\": \"generalv3.5\", # 用于配置大模型版本\n",
    "            \"spark_url\": spark_url_tpl.format(\"v3.5\") # 云端环境的服务地址\n",
    "        }\n",
    "    }\n",
    "    return model_params_dict[model]\n",
    "\n",
    "\n",
    "def get_completion(prompt, model=\"v3.5\", temperature = 0.01, max_tokens=8192):\n",
    "    '''\n",
    "    获取星火模型调用结果\n",
    "\n",
    "    请求参数：\n",
    "        prompt: 对应的提示词\n",
    "        model: 调用的模型，默认为 v3.5，也可以按需选择 v3.0 等其他模型\n",
    "        temperature: 模型输出的温度系数，控制输出的随机程度，取值范围是 0~1.0，且不能设置为 0。温度系数越低，输出内容越一致。\n",
    "    '''\n",
    "\n",
    "    response = sparkAPI.main(\n",
    "        appid=os.environ[\"SPARK_APPID\"],\n",
    "        api_secret=os.environ[\"SPARK_API_SECRET\"],\n",
    "        api_key=os.environ[\"SPARK_API_KEY\"],\n",
    "        gpt_url=gen_spark_params(model)[\"spark_url\"],\n",
    "        domain=gen_spark_params(model)[\"domain\"],\n",
    "        query=prompt,\n",
    "        max_tokens=max_tokens\n",
    "    )\n",
    "    return response"
   ]
  },
  {
   "cell_type": "markdown",
   "id": "0f16edc5-92e9-498c-99df-850227054299",
   "metadata": {},
   "source": [
    "## 1.4 通义千问"
   ]
  },
  {
   "cell_type": "markdown",
   "id": "eeaf2968-a94c-464e-8ff5-c609c9f20d8f",
   "metadata": {},
   "source": [
    "前提条件\n",
    "已开通服务并获得API-KEY：开通DashScope并创建API-KEY。\n",
    "https://help.aliyun.com/zh/dashscope/developer-reference/activate-dashscope-and-create-an-api-key\n",
    "\n",
    "[灵积控制台 模型 计费管理](https://dashscope.console.aliyun.com/billing)\n",
    "\n",
    "[通义 api 文档](https://help.aliyun.com/zh/dashscope/developer-reference/api-details)"
   ]
  },
  {
   "cell_type": "code",
   "execution_count": null,
   "id": "3736eedd-4820-4484-8c8d-f6b262b3f4e2",
   "metadata": {},
   "outputs": [],
   "source": [
    "import requests\n",
    "import os\n",
    "from dotenv import dotenv_values\n",
    "\n",
    "api_key = dotenv_values('.env')['DASHSCOPE_API_KEY']\n",
    "# api_key = os.getenv(\"DASHSCOPE_API_KEY\")\n",
    "url = 'https://dashscope.aliyuncs.com/api/v1/services/aigc/text-generation/generation'\n",
    "headers = {'Content-Type': 'application/json',\n",
    "           'Authorization':f'Bearer {api_key}'}\n",
    "\n",
    "def get_completion(prompt, model=\"qwen-max-longcontext\", max_tokens=2000):\n",
    "    '''\n",
    "    max_tokens  其中qwen-turbo最大值和默认值为1500，qwen-max、qwen-max-1201 、qwen-max-longcontext 和 qwen-plus最大值和默认值均为2000。\n",
    "    model       目前可选择qwen-turbo、qwen-plus、qwen-max、qwen-max-0403、qwen-max-0107、qwen-max-1201和qwen-max-longcontext\n",
    "    '''\n",
    "    body = {\n",
    "        'model': model,\n",
    "        \"input\": {\n",
    "            \"messages\": [\n",
    "                {\n",
    "                    \"role\": \"system\",\n",
    "                    \"content\": \"You are a helpful assistant.\"\n",
    "                },\n",
    "                {\n",
    "                    \"role\": \"user\",\n",
    "                    \"content\": prompt\n",
    "                }\n",
    "            ]\n",
    "        },\n",
    "        \"parameters\": {\n",
    "            \"result_format\": \"message\",\n",
    "            \"max_tokens\":max_tokens,\n",
    "            \"enable_search\":True\n",
    "\n",
    "        }\n",
    "    }\n",
    "\n",
    "    response = requests.post(url, headers=headers, json=body)\n",
    "    response_ = response.json()\n",
    "    return response_['output']['choices'][0]['message']['content']\n",
    "    # ['output']['choices'][0]['message']['content']\n",
    "    # .choices[0].message.content\n",
    "    # ['output']['choices'][0]['message']\n",
    "    # output.choices[x].message.content"
   ]
  },
  {
   "cell_type": "code",
   "execution_count": null,
   "id": "308da49b-5377-466b-8876-f6371330cde9",
   "metadata": {},
   "outputs": [],
   "source": [
    "get_completion(\"你是谁？\")"
   ]
  },
  {
   "cell_type": "markdown",
   "id": "39c168b2-6465-42f1-b889-12df05977737",
   "metadata": {},
   "source": [
    "# 2. 构建知识图谱"
   ]
  },
  {
   "cell_type": "markdown",
   "id": "b4921bc9-27ae-4915-a383-172ac9ce6899",
   "metadata": {},
   "source": [
    "## 2.1 获取数据"
   ]
  },
  {
   "cell_type": "code",
   "execution_count": null,
   "id": "1f3b4079-9bbf-40d4-aa3d-a5561012da7d",
   "metadata": {
    "scrolled": true
   },
   "outputs": [],
   "source": [
    "import re\n",
    "from docx import Document\n",
    "import os\n",
    "\n",
    "# 定义文件夹路径，使用相对路径\n",
    "folder_path = r'./database/课程/part_textbook'\n",
    "\n",
    "# 初始化一个空字符串用于存储所有文档的内容\n",
    "str_content = \"\"\n",
    "\n",
    "# 确保路径存在\n",
    "if not os.path.exists(folder_path):\n",
    "    print(\"指定的文件夹路径不存在，请检查路径是否正确。\")\n",
    "else:\n",
    "    # 遍历文件夹中的所有文件\n",
    "    for filename in os.listdir(folder_path):\n",
    "        if filename.endswith(\".docx\"):  # 确保是Word文档\n",
    "            file_path = os.path.join(folder_path, filename)\n",
    "            doc = Document(file_path)  # 读取Word文档\n",
    "            for para in doc.paragraphs:  # 遍历文档中的所有段落\n",
    "                # 将段落文本添加到字符串中，移除前后空格\n",
    "                str_content += para.text.strip()\n",
    "\n",
    "    # 使用正则表达式移除所有不可见字符和换行符\n",
    "    str_content = re.sub(r'[^\\w\\s]', '', str_content)\n",
    "    str_content = re.sub(r'\\s+', ' ', str_content)  # 将多个空格替换为一个空格\n",
    "\n",
    "    # 打印结果，此时不应该包含换行符\n",
    "    print(str_content)"
   ]
  },
  {
   "cell_type": "markdown",
   "id": "53a18f22",
   "metadata": {},
   "source": [
    "## 2.2 调用大模型"
   ]
  },
  {
   "cell_type": "markdown",
   "id": "6084f9fa",
   "metadata": {},
   "source": [
    "**一本教材大约需要 500 万 token**"
   ]
  },
  {
   "cell_type": "markdown",
   "id": "d9bcb02e-b204-4a76-9d99-67e3035e906e",
   "metadata": {},
   "source": [
    "输出：\n",
    "\"\"\"\n",
    "    ``` json\n",
    "    [{\n",
    "        \"node_id\": \"EC_K_0001\",\n",
    "        \"name_zh\": \"商业模式\",\n",
    "        \"name_en\": \"Business Model\",\n",
    "        \"explanation\": \"企业为客户和利益相关方创造价值所采用的商业逻辑或系统。\"\n",
    "    },    {\n",
    "        \"node_id\": \"EC_K_0002\",\n",
    "        \"name_zh\": \"价值主张\",\n",
    "        \"name_en\": \"value proposition\",\n",
    "        \"explanation\": \"企业为客户提供的独特价值或利益。\"\n",
    "    },    {\n",
    "        \"node_id\": \"EC_K_0010\",\n",
    "        \"name_zh\": \"O2O\",\n",
    "        \"name_en\": \"\",\n",
    "        \"explanation\": \"Online to Offline，线上到线下，指线上营销带动线下消费。\"\n",
    "    },    {\n",
    "        \"A_id\": \"EC_K_0001\",\n",
    "        \"B_id\": \"EC_K_0002\",\n",
    "        \"relation\": \"include\"\n",
    "    },    {\n",
    "        \"A_id\": \"EC_K_0001\",\n",
    "        \"B_id\": \"EC_K_0010\",\n",
    "        \"relation\": \"include\"\n",
    "    }]\n",
    "```\n",
    "```json\n",
    "[\n",
    "    {\n",
    "        \"node_id\": \"EC_K_0001\",\n",
    "        \"name_zh\": \"商业模式\",\n",
    "        \"name_en\": \"business model\",\n",
    "        \"explanation\": \"企业通过创造价值而获取收益所采取的一系列活动，表明了公司在价值链中所处的位置\"\n",
    "    },\n",
    "    {\n",
    "        \"node_id\": \"EC_K_0002\",\n",
    "        \"name_zh\": \"价值主张\",\n",
    "        \"name_en\": \"value proposition\",\n",
    "        \"explanation\": \"面向客户的价值，商业模式需要回答客户价值是什么\"\n",
    "    },\n",
    "\n",
    "\"\"\""
   ]
  },
  {
   "cell_type": "code",
   "execution_count": null,
   "id": "d2d350fb-7662-4c93-9fec-892b11ea8051",
   "metadata": {},
   "outputs": [],
   "source": [
    "# 定义一个空列表来存储关键词\n",
    "list_str_keywords = []\n",
    "\n",
    "# 打开文件并逐行读取\n",
    "with open(r'./database/课程/part_keywords/all_keywords.txt', 'r', encoding='utf-8') as file:\n",
    "    for line in file:\n",
    "        # 使用split()方法根据制表符分割每一行，然后取第一个元素作为关键词\n",
    "        keyword = line.strip().split('\\t')[0]\n",
    "        # 将关键词添加到列表中\n",
    "        list_str_keywords.append(keyword)\n",
    "\n",
    "# 打印结果以验证\n",
    "print(list_str_keywords)"
   ]
  },
  {
   "cell_type": "code",
   "execution_count": null,
   "id": "f922e44a-7176-4b54-b912-7bfab1826678",
   "metadata": {
    "scrolled": true
   },
   "outputs": [],
   "source": [
    "# 初始化一个空列表来存储返回值\n",
    "completion_results = []\n",
    "\n",
    "# 定义每次截取的字符长度\n",
    "chunk_size = 400\n",
    "\n",
    "# 设置请求间隔时间（秒）\n",
    "interval = 20\n",
    "\n",
    "# 初始化循环次数计数器\n",
    "counter = 649\n",
    "\n",
    "\n",
    "# 循环字符串，每次截取 500 个字符\n",
    "for chunk_start in range((counter*chunk_size), len(str_content), chunk_size):\n",
    "    # 截取字符串的子集\n",
    "    chunk = str_content[chunk_start: chunk_start + chunk_size]\n",
    "    # 调用函数处理每个字符串块\n",
    "    prompt_text_entity = \"\"\"你是一个对电子商务领域有深入了解的专家。请基于电子商务领域的百科词条以及这里提供的关键词 %s，从文本中提取所有关于电子商务的概念作为实体，并获取实体的属性（中文名name_zh、英文名name_en、定义explanation）\"\"\" % (list_str_keywords)\n",
    "    result_entity = get_completion(prompt_text_entity + \"待处理文本为：\" + chunk)\n",
    "    \n",
    "    prompt_text_relation = \"\"\"根据 %s 和输入的文本 %s ，识别实体之间的所有关系（include表示知识点A_id包含知识点B_id；order表示知识点A_id学完才有基础学习知识点B_id；relate表示知识点A_id与B_id有关，但是非include和order的关系）。输出为json格式，不要含注释。\n",
    "    请参考我给出的示例：\n",
    "    <example>\n",
    "    待处理文本：价值体现或价值主张(value proposition)是确定一个企业的产品或者服务如何满足客户的需求，它是企业商业模式的核心。商业模式就是企业通过创造价值而获取收益所采取的一系列活动，它表明了公司在价值链中所处的位置。任何商业模式都要清楚他们的赢利模式和价值主张。\n",
    "    输出：\n",
    "    [    {\n",
    "            \"node_id\": \"EC_K_0001\",\n",
    "            \"name_zh\": \"价值体现\",\n",
    "            \"name_en\": \"value proposition\",\n",
    "            \"explanation\": \"确定一个企业的产品或者服务如何满足客户的需求\"\n",
    "        },    {\n",
    "            \"node_id\": \"EC_K_0002\",\n",
    "            \"name_zh\": \"商业模式\",\n",
    "            \"name_en\": \"Business Model\",\n",
    "            \"explanation\": \"企业通过创造价值而获取收益所采取的一系列活动，它表明了公司在价值链中所处的位置\"\n",
    "        },    {\n",
    "            \"A_id\": \"EC_K_0002\",\n",
    "            \"B_id\": \"EC_K_0001\",\n",
    "            \"relation\": \"include\"\n",
    "        }]\n",
    "    </example>\n",
    "    \"\"\" % (result_entity, chunk)\n",
    "    result = get_completion(prompt_text_relation + \"待处理文本为：\" + chunk)    \n",
    "    \n",
    "    # 将返回值追加到列表中\n",
    "    completion_results.append(result)\n",
    "    \n",
    "    # 每循环 30 次执行一次 time.sleep(interval)\n",
    "    counter += 1\n",
    "    print(\"第\" + str(counter) + \"次循环\")\n",
    "\n",
    "    if counter % 30 == 0:\n",
    "        time.sleep(interval)\n",
    "        print(chunk[0:50])\n",
    "\n",
    "    # if counter == 500:\n",
    "    #     break\n",
    "\n",
    "# 打印或处理completion_results列表\n",
    "print(completion_results)"
   ]
  },
  {
   "cell_type": "code",
   "execution_count": null,
   "id": "e6681405-c955-445f-8589-e58d1043c475",
   "metadata": {},
   "outputs": [],
   "source": [
    "# with open(r'./output/课程_3_llmGen.txt', 'w', encoding='utf-8') as file:\n",
    "with open(r'./output/课程_llmGen.txt', 'a', encoding='utf-8') as file:\n",
    "    # 使用列表推导式和写入操作，将每个字符串写入文件，并追加换行符\n",
    "    file.writelines(f\"{line}\\n\" for line in completion_results)"
   ]
  },
  {
   "cell_type": "markdown",
   "id": "1be5cf4a-3ec8-4528-b0f1-d22f0851ec41",
   "metadata": {},
   "source": [
    "## 2.3 清洗数据\n",
    "### 2.3.1 去除 `[]` 外的字符"
   ]
  },
  {
   "cell_type": "code",
   "execution_count": null,
   "id": "7afff936-6c9d-4110-9ed3-b1fa9525d4d8",
   "metadata": {},
   "outputs": [],
   "source": [
    "stack = []\n",
    "indexes = []\n",
    "file_path = r'./output/课程_llmGen.txt'\n",
    "content_json = []\n",
    "with open(file_path, 'r', encoding='utf-8') as file:\n",
    "    # 读取文件内容到字符串变量\n",
    "    content = file.read()\n",
    "for i in range(len(content)):\n",
    "    char_ = content[i]\n",
    "    if char_ == '[':\n",
    "        stack.append(content[i])\n",
    "        indexes.append(i)\n",
    "    elif char_ == ']':\n",
    "        if stack:\n",
    "            stack.pop()\n",
    "            if not stack:  # 弹出 [ 后，若为空，说明匹配到了完整的 []\n",
    "                indexes.append(i)\n",
    "                content_json.append(content[indexes[0]:indexes[-1]] + \"]\")\n",
    "                indexes = []\n",
    "            else:  # 若栈不空，继续寻找匹配的 ]\n",
    "                indexes.pop()\n",
    "        else:  # 遇到 ] 但栈为空，表明没有匹配的 [\n",
    "            print(\"no match [\")\n",
    "    elif char_ == '`':\n",
    "        if stack:  # 如果当前有未闭合的 [\n",
    "            context = content[max(0, i-20):i]  # 获取当前位置前20个字符，如果i小于20，则从开头开始\n",
    "            print(f\"no match ] near: '{context}'\")\n",
    "            indexes = []\n",
    "            stack = []\n",
    "\n",
    "print(content_json)"
   ]
  },
  {
   "cell_type": "markdown",
   "id": "f373f590",
   "metadata": {},
   "source": [
    "### 2.3.2 重设 node_id，实体和关系中同步修改\n",
    "\n",
    "输出形如：\n",
    "```json\n",
    "\n",
    "    [{\n",
    "        \"node_id\": \"EC_K_0169\",\n",
    "        \"name_zh\": \"点击收费\",\n",
    "        \"name_en\": \"Pay per click\",\n",
    "        \"explanation\": \"按有效点击广告并链接到相应位置计算一次收费。\"\n",
    "    },\n",
    "    {\n",
    "        \"node_id\": \"EC_K_0170\",\n",
    "        \"name_zh\": \"成交收费\",\n",
    "        \"name_en\": \"Pay per action\",\n",
    "        \"explanation\": \"消费者点击广告进入企业并完成商品购买，按交易额收费。\"\n",
    "    },\n",
    "    {\n",
    "        \"A_id\": \"EC_K_0001\",\n",
    "        \"B_id\": \"EC_K_0002\",\n",
    "        \"relation\": \"include\"\n",
    "    },\n",
    "    {\n",
    "        \"A_id\": \"EC_K_0001\",\n",
    "        \"B_id\": \"EC_K_0003\",\n",
    "        \"relation\": \"include\"\n",
    "    }]\n",
    "```"
   ]
  },
  {
   "cell_type": "code",
   "execution_count": null,
   "id": "34825e2a-0516-4983-bd6c-c98f28b38d9b",
   "metadata": {},
   "outputs": [],
   "source": [
    "k = 1\n",
    "nodes_combine = []\n",
    "relations_combine = []\n",
    "for i in range(len(content_json)):\n",
    "    data_json = json.loads(content_json[i])\n",
    "    # 初始化两个空列表，用于存放不同类型的数据\n",
    "    json_nodes = []\n",
    "    json_relations = []\n",
    "    id_mapping = {}\n",
    "\n",
    "    # 根据数据内容的差异将数据分别存入两个列表\n",
    "    for item in data_json:\n",
    "        if \"node_id\" in item:\n",
    "            json_nodes.append(item)\n",
    "        elif \"A_id\" in item and \"B_id\" in item:\n",
    "            json_relations.append(item)\n",
    "            \n",
    "    for j in range(len(json_nodes)):\n",
    "        new_id = f\"EC_K_{(k + j):04}\"\n",
    "        id_mapping[json_nodes[j]['node_id']] = new_id\n",
    "        json_nodes[j]['node_id'] = new_id\n",
    "        if j == len(json_nodes) - 1:\n",
    "            k = k + j + 1\n",
    "            \n",
    "    # 使用映射更新 relations 中的 A_id 和 B_id\n",
    "    for relation in json_relations:\n",
    "        if relation[\"A_id\"] in id_mapping:\n",
    "            relation[\"A_id\"] = id_mapping[relation[\"A_id\"]]\n",
    "        if relation[\"B_id\"] in id_mapping:\n",
    "            relation[\"B_id\"] = id_mapping[relation[\"B_id\"]]\n",
    "            \n",
    "    for i in range(len(json_nodes)):\n",
    "        nodes_combine.append(json_nodes[i])\n",
    "    for i in range(len(json_relations)):\n",
    "        relations_combine.append(json_relations[i])"
   ]
  },
  {
   "cell_type": "code",
   "execution_count": null,
   "id": "dd9430b2-0e8f-431c-bd0d-78e7347a031a",
   "metadata": {},
   "outputs": [],
   "source": [
    "data_json_rename = nodes_combine + relations_combine\n",
    "# data_json_rename\n",
    "with open(r'./output/课程_proc.json', 'w', encoding='utf-8') as file:\n",
    "    json.dump(data_json_rename, file, indent=4, ensure_ascii=False)"
   ]
  },
  {
   "cell_type": "markdown",
   "id": "eee672e0",
   "metadata": {},
   "source": [
    "### 2.3.3 实体中增加type属性，关系中替换renlation键为type\n",
    "\n",
    "输出形如：\n",
    "```json\n",
    "    [{\n",
    "        \"node_id\": \"EC_K_0169\",\n",
    "        \"name_zh\": \"点击收费\",\n",
    "        \"name_en\": \"Pay per click\",\n",
    "        \"explanation\": \"按有效点击广告并链接到相应位置计算一次收费。\",\n",
    "        \"type\": \"knowledge\"\n",
    "    },\n",
    "    {\n",
    "        \"node_id\": \"EC_K_0170\",\n",
    "        \"name_zh\": \"成交收费\",\n",
    "        \"name_en\": \"Pay per action\",\n",
    "        \"explanation\": \"消费者点击广告进入企业并完成商品购买，按交易额收费。\",\n",
    "        \"type\": \"knowledge\"\n",
    "    },\n",
    "    {\n",
    "        \"A_id\": \"EC_K_0001\",\n",
    "        \"B_id\": \"EC_K_0002\",\n",
    "        \"type\": \"include\"\n",
    "    },\n",
    "    {\n",
    "        \"A_id\": \"EC_K_0001\",\n",
    "        \"B_id\": \"EC_K_0003\",\n",
    "        \"type\": \"include\"\n",
    "    }]\n",
    "```"
   ]
  },
  {
   "cell_type": "code",
   "execution_count": null,
   "id": "aa67c191-ac2e-4fd9-a35c-85bdcc56b52c",
   "metadata": {},
   "outputs": [],
   "source": [
    "import json\n",
    "\n",
    "# 假设 json 文件名为 example.json\n",
    "filename = r'./output/课程_proc.json'\n",
    "\n",
    "# 读取文件中的 JSON 数据\n",
    "with open(filename, 'r', encoding='utf-8') as file:\n",
    "    data = json.load(file)"
   ]
  },
  {
   "cell_type": "code",
   "execution_count": null,
   "id": "2ef36d80-34d3-41de-a70b-f6c8edd483af",
   "metadata": {},
   "outputs": [],
   "source": [
    "for item in data:\n",
    "    if \"node_id\" in item:\n",
    "        item['type'] = 'knowledge'\n",
    "    if (\"A_id\" in item) and (\"B_id\" in item):\n",
    "        item['type'] = item.pop('relation')\n",
    "\n",
    "# # 将更新后的数据写回到文件（可选）\n",
    "with open(r'./output/课程_proc1.json', 'w', encoding='utf-8') as file:\n",
    "    json.dump(data, file, indent=4, ensure_ascii=False)"
   ]
  },
  {
   "cell_type": "code",
   "execution_count": null,
   "id": "9f493f14-6e1e-4868-b703-c4800c9cd08c",
   "metadata": {},
   "outputs": [],
   "source": [
    "# 假设 json 文件名为 example.json\n",
    "filename = r'./output/课程_proc1.json'\n",
    "\n",
    "# 读取文件中的 JSON 数据\n",
    "with open(filename, 'r', encoding='utf-8') as file:\n",
    "    data = json.load(file)"
   ]
  },
  {
   "cell_type": "markdown",
   "id": "5fc9a447-eb16-4735-b67e-3e25e6e2e4d0",
   "metadata": {},
   "source": [
    "## 2.4 合并实体"
   ]
  },
  {
   "cell_type": "markdown",
   "id": "8962601d-9b42-47ea-91de-c56e63dc72c3",
   "metadata": {},
   "source": [
    "根据 explanation 做向量相似度计算\n",
    "\n",
    "合并 node_name ，让 llm 选择一个 name，其余 name 存到 explanation"
   ]
  },
  {
   "cell_type": "code",
   "execution_count": null,
   "id": "d1f844df-ea02-444a-8cd8-a9cb9470b035",
   "metadata": {},
   "outputs": [],
   "source": [
    "import sys\n",
    "sys.path.append('..')\n",
    "from text2vec import Similarity\n",
    "\n",
    "# class Similarity 中有判断 gpu or cpu 的语句\n",
    "# SBERT（Sentence-BERT）是基于BERT模型的一个变体，专门用于生成句子级别的向量表示\n",
    "sim_model = Similarity(similarity_type='cosine', embedding_type='sbert')\n",
    "\n",
    "list_merge = []\n",
    "list_merge_node_id = []\n",
    "\n",
    "dict_merge = {}\n",
    "set_sim = set()\n",
    "\n",
    "# 比较每一对文本的相似度\n",
    "for i in range(9):\n",
    "    for j in range(i + 1, len(data)):\n",
    "        if (\"node_id\" in data[i]) and (\"node_id\" in data[j]):\n",
    "            sim_1 = sim_model.get_score(data[i]['name_zh'], data[j]['name_zh'])\n",
    "            sim_2 = sim_model.get_score(data[i]['explanation'], data[j]['explanation'])\n",
    "            # # 将打印内容写入文件\n",
    "            # file.write(f\"相似度 - {data[i]['name_zh']} 和 {data[j]['name_zh']}: {sim_1:.2f}\\n\")\n",
    "            # file.write(f\"相似度 - {data[i]['explanation']} 和 {data[j]['explanation']}: {sim_2:.2f}\\n\")\n",
    "            # file.write(\"=================================\\n\")\n",
    "            if (sim_1 >= 0.99) or (sim_2 >= 0.95):\n",
    "                # set_sim.add(data[i][\"node_id\"])\n",
    "                set_sim.add(data[j][\"node_id\"])\n",
    "    dict_merge['%s' % (data[i]['node_id'])] = set_sim\n",
    "    set_sim = set()\n",
    "    list_merge.append(dict_merge)\n",
    "    dict_merge = {}"
   ]
  },
  {
   "cell_type": "code",
   "execution_count": null,
   "id": "c32c649f-4592-48cb-875f-657603ae2378",
   "metadata": {},
   "outputs": [],
   "source": [
    "# 创建一个空列表来存储所有的值\n",
    "all_values = []\n",
    "\n",
    "# 遍历列表中的每个字典\n",
    "for dictionary in list_merge:\n",
    "    # 遍历字典中的每个键和值\n",
    "    for key, value_set in dictionary.items():\n",
    "        # 将值集合添加到列表中\n",
    "        all_values.extend(value_set)\n",
    "all_values"
   ]
  },
  {
   "cell_type": "code",
   "execution_count": null,
   "id": "427e983a-c5ed-46c6-bf26-142534d6177e",
   "metadata": {
    "scrolled": true
   },
   "outputs": [],
   "source": [
    "# 删除重复节点\n",
    "data__ = [node_i for node_i in data if node_i.get('node_id') not in all_values]\n",
    "data__"
   ]
  },
  {
   "cell_type": "code",
   "execution_count": null,
   "id": "c7de0d54-5008-4eec-bba6-6fa359e7267b",
   "metadata": {},
   "outputs": [],
   "source": [
    "data____ = data__"
   ]
  },
  {
   "cell_type": "code",
   "execution_count": null,
   "id": "98c9f200-9164-4ba5-9b50-7e45ed715190",
   "metadata": {},
   "outputs": [],
   "source": [
    "# 将关系中的节点合并  删除节点时，建立映射\n",
    "for i in range(len(data__)):\n",
    "    if data__[i].get('A_id') in all_values:\n",
    "        for list_merge_dict in list_merge:\n",
    "            if data__[i]['A_id'] in next(iter(list_merge_dict.values())):\n",
    "                data__[i]['A_id'] = str(next(iter(list_merge_dict.keys())))\n",
    "            else:\n",
    "                continue\n",
    "    if data__[i].get('B_id') in all_values:\n",
    "        for list_merge_dict in list_merge:\n",
    "            if data__[i]['B_id'] in next(iter(list_merge_dict.values())):\n",
    "                data__[i]['B_id'] = str(next(iter(list_merge_dict.keys())))  \n",
    "            else:\n",
    "                continue"
   ]
  },
  {
   "cell_type": "code",
   "execution_count": null,
   "id": "34d1ab74-43a1-452f-b3a9-e8e715055f1c",
   "metadata": {
    "scrolled": true
   },
   "outputs": [],
   "source": [
    "data__"
   ]
  },
  {
   "cell_type": "code",
   "execution_count": null,
   "id": "6f14dee8-a83e-4607-83d9-e7ea9feff584",
   "metadata": {
    "scrolled": true
   },
   "outputs": [],
   "source": [
    "# 初始化计数器\n",
    "counter = 1\n",
    "# 创建一个新列表来存储更新后的数据\n",
    "new_data__ = []\n",
    "id_mapping = {}\n",
    "\n",
    "for item in data__:\n",
    "    # 复制当前项，避免直接修改原始数据\n",
    "    new_item = item.copy()\n",
    "    # 如果当前项包含node_id，则更新它\n",
    "    if 'node_id' in new_item:\n",
    "        # 构造新的 node_id，使用 str.format() 或者 f-string 来格式化编号\n",
    "        new_id = f\"EC_K_{counter:04d}\"\n",
    "        id_mapping[new_item['node_id']] = new_id\n",
    "        new_item['node_id'] = new_id\n",
    "        # 更新计数器\n",
    "        counter += 1\n",
    "    # 添加更新后的项到新列表\n",
    "    new_data__.append(new_item)\n",
    "\n",
    "new_data__"
   ]
  },
  {
   "cell_type": "code",
   "execution_count": null,
   "id": "3e9b3003-c654-401b-91db-5b17d22d4a25",
   "metadata": {
    "scrolled": true
   },
   "outputs": [],
   "source": [
    "id_mapping"
   ]
  },
  {
   "cell_type": "code",
   "execution_count": null,
   "id": "93a9b197-b70d-42ca-9b78-2698809cfaa4",
   "metadata": {},
   "outputs": [],
   "source": [
    "for item in new_data__:\n",
    "    if item.get('A_id') in id_mapping:\n",
    "        item['A_id'] = id_mapping[item['A_id']]\n",
    "    if item.get('B_id') in id_mapping:\n",
    "        item['B_id'] = id_mapping[item['B_id']]"
   ]
  },
  {
   "cell_type": "code",
   "execution_count": null,
   "id": "69623768-22ef-44b6-87ac-53946f9f0838",
   "metadata": {
    "scrolled": true
   },
   "outputs": [],
   "source": [
    "new_data__"
   ]
  },
  {
   "cell_type": "code",
   "execution_count": null,
   "id": "85e1fb5b-f8e4-4a12-8a54-1b99f49a21dc",
   "metadata": {},
   "outputs": [],
   "source": [
    "# # 将更新后的数据写回到文件（可选）\n",
    "# with open(r'./课程_glm4_merge.json', 'w', encoding='utf-8') as file:\n",
    "with open(r'./output/课程_glm4_merge.json', 'w', encoding='utf-8') as file:\n",
    "    json.dump(data__, file, indent=4, ensure_ascii=False)"
   ]
  },
  {
   "cell_type": "markdown",
   "id": "5531dae8",
   "metadata": {},
   "source": [
    "# 3. 链接 neo4j，生成图谱"
   ]
  },
  {
   "cell_type": "markdown",
   "id": "2c04b60e",
   "metadata": {},
   "source": [
    "输入格式：\n",
    "```json\n",
    "    [{\n",
    "        \"name_zh\": \"隐私权\",\n",
    "        \"name_en\": \"Privacy Rights\",\n",
    "        \"explanation\": \"消费者在电子商务中的个人隐私保护\",\n",
    "        \"type\": \"knowledge\",\n",
    "        \"node_id\": \"EC_K_2872\"\n",
    "    },    {\n",
    "        \"name_zh\": \"电子签名\",\n",
    "        \"name_en\": \"Electronic Signature\",\n",
    "        \"explanation\": \"用于识别和验证签名人身份的数据电文\",\n",
    "        \"type\": \"knowledge\",\n",
    "        \"node_id\": \"EC_K_2873\"\n",
    "    },    {\n",
    "        \"A_id\": \"EC_K_0001\",\n",
    "        \"B_id\": \"EC_K_0002\",\n",
    "        \"type\": \"include\"\n",
    "    },    {\n",
    "        \"A_id\": \"EC_K_0001\",\n",
    "        \"B_id\": \"EC_K_0003\",\n",
    "        \"type\": \"include\"\n",
    "    }]\n",
    "```"
   ]
  },
  {
   "cell_type": "code",
   "execution_count": null,
   "id": "3b8e4b07-253e-4358-99df-a99ef9bbe564",
   "metadata": {},
   "outputs": [],
   "source": [
    "# JSON文件路径\n",
    "json_file_path = r'./output/课程_glm4_merge.json' # 将此路径替换为实际的JSON文件路径\n",
    "\n",
    "# 连接Neo4j数据库\n",
    "uri = \"bolt://localhost:7687\"  # Neo4j数据库URI\n",
    "username = \"neo4j\"  # Neo4j数据库用户名\n",
    "password = \"xxx\"  # Neo4j数据库密码\n",
    "\n",
    "driver = GraphDatabase.driver(uri, auth=(username, password))"
   ]
  },
  {
   "cell_type": "code",
   "execution_count": null,
   "id": "dded3347-0362-4c1a-9e76-79d65775a4b4",
   "metadata": {},
   "outputs": [],
   "source": [
    "# 清空数据库\n",
    "def clear_database(tx):\n",
    "    tx.run(\"MATCH (n) DETACH DELETE n\")\n",
    "\n",
    "with driver.session() as session:\n",
    "    session.write_transaction(clear_database)\n",
    "\n",
    "driver.close()"
   ]
  },
  {
   "cell_type": "code",
   "execution_count": null,
   "id": "4ccf9fab-a588-4a16-92d4-146356275be7",
   "metadata": {},
   "outputs": [],
   "source": [
    "# 读取JSON文件内容\n",
    "with open(json_file_path, 'r', encoding='utf-8') as file:\n",
    "    data = json.load(file)"
   ]
  },
  {
   "cell_type": "code",
   "execution_count": null,
   "id": "b917e03b-b2c3-429d-b323-b6be1e84213c",
   "metadata": {},
   "outputs": [],
   "source": [
    "# 使用Neo4j的Python驱动程序创建会话并写入数据\n",
    "with driver.session() as session:\n",
    "    for item in data:\n",
    "        if item['type'] not in ('include', 'relate', 'order'):\n",
    "            # 执行创建节点的操作\n",
    "            try:\n",
    "                id = item['node_id']\n",
    "            except KeyError:\n",
    "                print(item)\n",
    "            type = item['type']\n",
    "            try:\n",
    "                name_zh = item['name_zh']\n",
    "            except KeyError:\n",
    "                print(item)\n",
    "            name_en = item.get('name_en', \"\")  # 使用get方法避免name_en不存在时引发错误\n",
    "            try:\n",
    "                explanation = item['explanation']\n",
    "            except KeyError:\n",
    "                print(item)\n",
    "            # updatetime = item['updatetime']\n",
    "            # 构建Cypher语句创建节点，并设置属性\n",
    "            session.run(\"CREATE (n:Item {id: $id, type: $type, name_zh: $name_zh, name_en: $name_en, explanation: $explanation})\",\n",
    "                            id=id, type=type, name_zh=name_zh, name_en=name_en, explanation=explanation)\n",
    "\n",
    "        else:\n",
    "            result_a = session.run(\"MATCH (n) WHERE n.id = $A_id RETURN n\", A_id=item['A_id'])\n",
    "            result_b = session.run(\"MATCH (n) WHERE n.id = $B_id RETURN n\", B_id=item['B_id'])\n",
    "            # 检查找到的节点是否存在\n",
    "            if result_a.single() and result_b.single():\n",
    "                # 如果两个节点都存在，创建关系\n",
    "                relationship_type = item['type']\n",
    "                A_id = item['A_id']\n",
    "                B_id = item['B_id']\n",
    "                # 构建Cypher语句，并将关系类型作为字符串的一部分\n",
    "                cypher_query = (\n",
    "                    f\"MATCH (a), (b) WHERE a.id = $A_id AND b.id = $B_id \"\n",
    "                    f\"CREATE (a)-[:{relationship_type}]->(b)\"\n",
    "                )\n",
    "                session.run(cypher_query, A_id=A_id, B_id=B_id)\n",
    "\n",
    "            else:\n",
    "                print(item['A_id'] + item['B_id'] + item['type'] + \"One or both nodes do not exist.\")\n",
    "                print(result_a.single())\n",
    "                print(result_b.single())\n",
    "\n",
    "# # 关闭Neo4j驱动程序\n",
    "# driver.close()"
   ]
  },
  {
   "cell_type": "markdown",
   "id": "e25a97af",
   "metadata": {},
   "source": [
    "## txt2cypher"
   ]
  },
  {
   "cell_type": "code",
   "execution_count": null,
   "id": "5311eabe",
   "metadata": {},
   "outputs": [],
   "source": [
    "from langchain_zhipu import ChatZhipuAI\n",
    "\n",
    "from langchain.chains import GraphCypherQAChain\n",
    "from langchain_community.graphs import Neo4jGraph\n",
    "\n",
    "# 加载 .env 到环境变量\n",
    "import os\n",
    "from dotenv import load_dotenv, find_dotenv\n",
    "load_dotenv(find_dotenv(), override=True)"
   ]
  },
  {
   "cell_type": "markdown",
   "id": "404d1779",
   "metadata": {},
   "source": [
    "安装 apoc 插件，参考：https://blog.csdn.net/zz_dyx/article/details/135172438"
   ]
  },
  {
   "cell_type": "code",
   "execution_count": null,
   "id": "7bd48510",
   "metadata": {},
   "outputs": [],
   "source": [
    "from langchain_community.graphs import Neo4jGraph\n",
    "\n",
    "graph = Neo4jGraph(\n",
    "    url=\"bolt://localhost:7687\", \n",
    "    username=\"neo4j\", \n",
    "    password=\"xxx\"\n",
    ")"
   ]
  },
  {
   "cell_type": "code",
   "execution_count": null,
   "id": "4ebdf39e",
   "metadata": {},
   "outputs": [],
   "source": [
    "# os.environ['OPENAI_API_KEY'] = \"sk-\"\n",
    "chain = GraphCypherQAChain.from_llm(\n",
    "    ChatZhipuAI(temperature=0.01), graph=graph, verbose=True,\n",
    ")"
   ]
  },
  {
   "cell_type": "code",
   "execution_count": null,
   "id": "638d5643",
   "metadata": {},
   "outputs": [],
   "source": [
    "chain.invoke({'query': \"\"\"与实体「商业模式」关系为 relate 关系的实体\"\"\"})"
   ]
  }
 ],
 "metadata": {
  "kernelspec": {
   "display_name": "llm-universe",
   "language": "python",
   "name": "python3"
  },
  "language_info": {
   "codemirror_mode": {
    "name": "ipython",
    "version": 3
   },
   "file_extension": ".py",
   "mimetype": "text/x-python",
   "name": "python",
   "nbconvert_exporter": "python",
   "pygments_lexer": "ipython3",
   "version": "3.10.14"
  }
 },
 "nbformat": 4,
 "nbformat_minor": 5
}
